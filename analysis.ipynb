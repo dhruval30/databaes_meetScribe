{
 "cells": [
  {
   "cell_type": "code",
   "execution_count": 1,
   "metadata": {},
   "outputs": [],
   "source": [
    "with open('transcription.txt', 'r', encoding='utf-8') as file:\n",
    "    text_data = file.read()"
   ]
  },
  {
   "cell_type": "code",
   "execution_count": 2,
   "metadata": {},
   "outputs": [],
   "source": [
    "import cohere\n",
    "\n",
    "# Initialize the Cohere client with your API key\n",
    "co = cohere.Client('P9aRsWqQbpmo9WichKXnUV4yjXF6P18gkgRzDJJa')"
   ]
  },
  {
   "cell_type": "code",
   "execution_count": 3,
   "metadata": {},
   "outputs": [
    {
     "name": "stdout",
     "output_type": "stream",
     "text": [
      "Summary: Speaker A, B, C and D are having a meeting about chronically absent students and trying to identify the causes of the problem. Speaker C suggests having a pancake breakfast to encourage students to come to school on Fridays while Speaker D proposes to put up posters with tips for not getting sick. They also discuss the case of a student named John Smith who has missed a lot of classes and suggest that he should speak to the guidance counselor as he's been stressed out due to having to help his parents with his younger siblings.  Speaker B offers to talk to John and help with the family's childcare needs.\n"
     ]
    }
   ],
   "source": [
    "# Use the summarization API to summarize the content of the text file\n",
    "response = co.summarize(\n",
    "    text=text_data,\n",
    "    length='medium'  # Choose 'short', 'medium', or 'long' for summary length\n",
    ")\n",
    "\n",
    "# Print the summary\n",
    "print(\"Summary:\", response.summary)"
   ]
  },
  {
   "cell_type": "code",
   "execution_count": 4,
   "metadata": {},
   "outputs": [
    {
     "name": "stdout",
     "output_type": "stream",
     "text": [
      "Generated Analysis: ## Key Insights and Trends:\n",
      "\n",
      "- Chronic absenteeism is a concern, with a noticeable trend of students skipping school on Fridays. This could be due to various factors, including difficulty getting out of bed and increased illness during colder months.\n",
      "- Speaker C suggests addressing this issue by organizing a fun event like a pancake breakfast to motivate students to attend school on Fridays. This is a creative approach to encourage attendance and build a positive school culture.\n",
      "- Speaker D proposes raising awareness about health and hygiene as a preventive measure for illnesses. Creating informative posters with tips on handwashing and other healthy habits is a proactive way to promote a healthier school environment, especially with flu season approaching.\n",
      "- The case of John Smith, a student with a high number of absences, is discussed. Speaker C provides valuable insight, revealing that John is dealing with family responsibilities, including caring for younger siblings. This information highlights the impact of external factors on student attendance.\n",
      "- Speaker B offers a practical solution by suggesting that John speak with the guidance counselor to address his stress and family situation. Offering support and connecting him with resources for childcare demonstrates a holistic approach to student well-being.\n",
      "- The meeting concludes with a focus on addressing student needs and providing support, emphasizing the importance of collaboration among staff members to ensure student success.\n",
      "\n",
      "## Trends:\n",
      "- The trend of increased absenteeism on Fridays is a significant concern, indicating a need for targeted interventions and engagement strategies.\n",
      "- There is a growing awareness of\n"
     ]
    }
   ],
   "source": [
    "# Generate analysis and insights from the text data\n",
    "prompt = \"Analyze the following text for key insights and trends: \" + text_data\n",
    "response = co.generate(\n",
    "    model='command-xlarge-nightly',\n",
    "    prompt=prompt,\n",
    "    max_tokens=300\n",
    ")\n",
    "\n",
    "# Print the generated analysis\n",
    "print(\"Generated Analysis:\", response.generations[0].text)"
   ]
  },
  {
   "cell_type": "code",
   "execution_count": null,
   "metadata": {},
   "outputs": [],
   "source": []
  }
 ],
 "metadata": {
  "kernelspec": {
   "display_name": "Python 3",
   "language": "python",
   "name": "python3"
  },
  "language_info": {
   "codemirror_mode": {
    "name": "ipython",
    "version": 3
   },
   "file_extension": ".py",
   "mimetype": "text/x-python",
   "name": "python",
   "nbconvert_exporter": "python",
   "pygments_lexer": "ipython3",
   "version": "3.12.3"
  }
 },
 "nbformat": 4,
 "nbformat_minor": 2
}
