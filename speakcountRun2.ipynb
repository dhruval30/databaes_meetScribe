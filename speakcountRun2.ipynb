{
 "cells": [
  {
   "cell_type": "code",
   "execution_count": 1,
   "metadata": {},
   "outputs": [
    {
     "name": "stdout",
     "output_type": "stream",
     "text": [
      "Output from speaker_analysis.py:\n",
      "\n"
     ]
    }
   ],
   "source": [
    "import subprocess\n",
    "\n",
    "# Define the path to the script you want to run\n",
    "script_path = 'speakcount.py'\n",
    "\n",
    "# Run the script using subprocess\n",
    "try:\n",
    "    result = subprocess.run(['python', script_path], capture_output=True, text=True)\n",
    "\n",
    "    # Print the output from the script (both stdout and stderr)\n",
    "    print(\"Output from speaker_analysis.py:\")\n",
    "    print(result.stdout)\n",
    "\n",
    "    # If there are errors, print them\n",
    "    if result.stderr:\n",
    "        print(\"Errors:\")\n",
    "        print(result.stderr)\n",
    "\n",
    "except Exception as e:\n",
    "    print(f\"An error occurred: {e}\")\n"
   ]
  }
 ],
 "metadata": {
  "kernelspec": {
   "display_name": "Python 3",
   "language": "python",
   "name": "python3"
  },
  "language_info": {
   "codemirror_mode": {
    "name": "ipython",
    "version": 3
   },
   "file_extension": ".py",
   "mimetype": "text/x-python",
   "name": "python",
   "nbconvert_exporter": "python",
   "pygments_lexer": "ipython3",
   "version": "3.12.3"
  }
 },
 "nbformat": 4,
 "nbformat_minor": 2
}
