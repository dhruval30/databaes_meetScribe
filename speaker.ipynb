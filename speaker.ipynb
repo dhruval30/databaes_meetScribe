{
 "cells": [
  {
   "cell_type": "code",
   "execution_count": 4,
   "metadata": {},
   "outputs": [
    {
     "name": "stdout",
     "output_type": "stream",
     "text": [
      "Transcription saved to transcription.txt\n"
     ]
    }
   ],
   "source": [
    "import assemblyai as aai\n",
    "\n",
    "# Replace with your API key\n",
    "aai.settings.api_key = \"83ff19c5369c4874b72d345d285d14ad\"\n",
    "\n",
    "# URL of the file to transcribe\n",
    "FILE_URL = 'Weekly Meeting Example.mp3'\n",
    "\n",
    "config = aai.TranscriptionConfig(speaker_labels=True)\n",
    "\n",
    "transcriber = aai.Transcriber()\n",
    "transcript = transcriber.transcribe(\n",
    "  FILE_URL,\n",
    "  config=config\n",
    ")\n",
    "\n",
    "# Open a file to save the transcription\n",
    "with open(\"transcription.txt\", \"w\") as file:\n",
    "    for utterance in transcript.utterances:\n",
    "        file.write(f\"Speaker {utterance.speaker}: {utterance.text}\\n\")\n",
    "\n",
    "print(\"Transcription saved to transcription.txt\")"
   ]
  }
 ],
 "metadata": {
  "kernelspec": {
   "display_name": "Python 3",
   "language": "python",
   "name": "python3"
  },
  "language_info": {
   "codemirror_mode": {
    "name": "ipython",
    "version": 3
   },
   "file_extension": ".py",
   "mimetype": "text/x-python",
   "name": "python",
   "nbconvert_exporter": "python",
   "pygments_lexer": "ipython3",
   "version": "3.12.3"
  }
 },
 "nbformat": 4,
 "nbformat_minor": 2
}
